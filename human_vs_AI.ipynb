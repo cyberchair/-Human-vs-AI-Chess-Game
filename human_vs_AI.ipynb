{
  "cells": [
    {
      "cell_type": "code",
      "execution_count": 3,
      "metadata": {
        "colab": {
          "base_uri": "https://localhost:8080/"
        },
        "id": "BwiFD4Ri09bg",
        "outputId": "2d3c810f-8e7f-4ac5-eb55-cabf719d67fa"
      },
      "outputs": [
        {
          "output_type": "stream",
          "name": "stdout",
          "text": [
            "Collecting chess\n",
            "  Downloading chess-1.10.0-py3-none-any.whl.metadata (19 kB)\n",
            "Downloading chess-1.10.0-py3-none-any.whl (154 kB)\n",
            "\u001b[2K   \u001b[90m━━━━━━━━━━━━━━━━━━━━━━━━━━━━━━━━━━━━━━━━\u001b[0m \u001b[32m154.4/154.4 kB\u001b[0m \u001b[31m3.1 MB/s\u001b[0m eta \u001b[36m0:00:00\u001b[0m\n",
            "\u001b[?25hInstalling collected packages: chess\n",
            "Successfully installed chess-1.10.0\n"
          ]
        }
      ],
      "source": [
        "!pip install chess"
      ]
    },
    {
      "cell_type": "code",
      "execution_count": null,
      "metadata": {
        "colab": {
          "base_uri": "https://localhost:8080/"
        },
        "id": "hvzC9M6I1HKu",
        "outputId": "576a84b2-1fe2-426b-fd49-17439f01ed7a"
      },
      "outputs": [
        {
          "output_type": "stream",
          "name": "stdout",
          "text": [
            "r n b q k b n r\n",
            "p p p p p p p p\n",
            ". . . . . . . .\n",
            ". . . . . . . .\n",
            ". . . . . . . .\n",
            ". . . . . . . .\n",
            "P P P P P P P P\n",
            "R N B Q K B N R\n"
          ]
        }
      ],
      "source": [
        "import chess\n",
        "import chess.svg\n",
        "import random\n",
        "\n",
        "def play_game():\n",
        "    board = chess.Board()\n",
        "\n",
        "    while not board.is_game_over():\n",
        "        print(board)\n",
        "        legal_moves = list(board.legal_moves)\n",
        "\n",
        "        if board.turn == chess.WHITE:\n",
        "            move_uci = input(\"Enter your move (e.g., 'e2e4'): \")\n",
        "            move = chess.Move.from_uci(move_uci)\n",
        "            if move in legal_moves:\n",
        "                board.push(move)\n",
        "            else:\n",
        "                print(\"Invalid move. Try again.\")\n",
        "        else:\n",
        "            move = random.choice(legal_moves)\n",
        "            print(f\"AI plays: {move.uci()}\")\n",
        "            board.push(move)\n",
        "\n",
        "    print(\"Game Over\")\n",
        "    print(\"Result: \" + board.result())\n",
        "\n",
        "if __name__ == \"__main__\":\n",
        "    play_game()\n"
      ]
    },
    {
      "cell_type": "code",
      "execution_count": null,
      "metadata": {
        "id": "m18A8flmptU2"
      },
      "outputs": [],
      "source": [
        "# import required module\n",
        "import chess\n",
        "\n",
        "# create board object\n",
        "board=chess.Board()\n",
        "\n",
        "# display chess board\n",
        "print(board)\n"
      ]
    }
  ],
  "metadata": {
    "colab": {
      "provenance": []
    },
    "kernelspec": {
      "display_name": "Python 3",
      "name": "python3"
    },
    "language_info": {
      "name": "python"
    }
  },
  "nbformat": 4,
  "nbformat_minor": 0
}